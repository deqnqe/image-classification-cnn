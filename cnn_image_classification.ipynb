{
 "cells": [
  {
   "cell_type": "markdown",
   "metadata": {},
   "source": [
    "<h2 align='center'>Image Classification Using Convolutional Neural Network (CNN)</h2>"
   ]
  },
  {
   "cell_type": "code",
   "execution_count": 44,
   "metadata": {},
   "outputs": [],
   "source": [
    "import tensorflow as tf\n",
    "from tensorflow.keras import datasets, layers, models\n",
    "import matplotlib.pyplot as plt\n",
    "import numpy as np"
   ]
  },
  {
   "cell_type": "markdown",
   "metadata": {},
   "source": [
    "<h4>Loading the dataset</h4>"
   ]
  },
  {
   "cell_type": "code",
   "execution_count": 68,
   "metadata": {},
   "outputs": [],
   "source": [
    "(X_train, y_train), (X_test,y_test) = datasets.cifar10.load_data()"
   ]
  },
  {
   "cell_type": "code",
   "execution_count": 69,
   "metadata": {
    "scrolled": true
   },
   "outputs": [
    {
     "data": {
      "text/plain": [
       "array([6, 9, 9, 4, 1], dtype=uint8)"
      ]
     },
     "execution_count": 69,
     "metadata": {},
     "output_type": "execute_result"
    }
   ],
   "source": [
    "y_train = y_train.reshape(-1,)\n",
    "y_train[:5]"
   ]
  },
  {
   "cell_type": "code",
   "execution_count": 72,
   "metadata": {},
   "outputs": [
    {
     "data": {
      "text/plain": [
       "array([6, 9, 9, 4, 1], dtype=uint8)"
      ]
     },
     "execution_count": 72,
     "metadata": {},
     "output_type": "execute_result"
    }
   ],
   "source": [
    "y_test = y_test.reshape(-1,)\n",
    "y_train[:5]"
   ]
  },
  {
   "cell_type": "code",
   "execution_count": 71,
   "metadata": {},
   "outputs": [],
   "source": [
    "classes = [\"airplane\",\"automobile\",\"bird\",\"cat\",\"deer\",\"dog\",\"frog\",\"horse\",\"ship\",\"truck\"]"
   ]
  },
  {
   "cell_type": "markdown",
   "metadata": {},
   "source": [
    "<h4>Normalizing the training data</h4>"
   ]
  },
  {
   "cell_type": "code",
   "execution_count": 12,
   "metadata": {},
   "outputs": [],
   "source": [
    "X_train = X_train / 255.0\n",
    "X_test = X_test / 255.0"
   ]
  },
  {
   "cell_type": "markdown",
   "metadata": {},
   "source": [
    "<h4>Building a convolutional neural network to train the images</h4>"
   ]
  },
  {
   "cell_type": "code",
   "execution_count": 45,
   "metadata": {},
   "outputs": [],
   "source": [
    "cnn = models.Sequential([\n",
    "    layers.Conv2D(filters=32, kernel_size=(3, 3), activation='relu', input_shape=(32, 32, 3)),\n",
    "    layers.MaxPooling2D((2, 2)),\n",
    "    \n",
    "    layers.Conv2D(filters=64, kernel_size=(3, 3), activation='relu'),\n",
    "    layers.MaxPooling2D((2, 2)),\n",
    "    \n",
    "    layers.Flatten(),\n",
    "    layers.Dense(64, activation='relu'),\n",
    "    layers.Dense(10, activation='softmax')\n",
    "])"
   ]
  },
  {
   "cell_type": "code",
   "execution_count": 46,
   "metadata": {},
   "outputs": [],
   "source": [
    "cnn.compile(optimizer='sgd',\n",
    "              loss='sparse_categorical_crossentropy',\n",
    "              metrics=['accuracy'])"
   ]
  },
  {
   "cell_type": "code",
   "execution_count": 48,
   "metadata": {
    "scrolled": false
   },
   "outputs": [
    {
     "name": "stdout",
     "output_type": "stream",
     "text": [
      "Epoch 1/100\n",
      "1563/1563 [==============================] - 17s 11ms/step - loss: 1.8436 - accuracy: 0.3377\n",
      "Epoch 2/100\n",
      "1563/1563 [==============================] - 17s 11ms/step - loss: 1.5530 - accuracy: 0.4474\n",
      "Epoch 3/100\n",
      "1563/1563 [==============================] - 16s 10ms/step - loss: 1.3966 - accuracy: 0.5033\n",
      "Epoch 4/100\n",
      "1563/1563 [==============================] - 16s 11ms/step - loss: 1.3086 - accuracy: 0.5374\n",
      "Epoch 5/100\n",
      "1563/1563 [==============================] - 17s 11ms/step - loss: 1.2371 - accuracy: 0.5629\n",
      "Epoch 6/100\n",
      "1563/1563 [==============================] - 17s 11ms/step - loss: 1.1757 - accuracy: 0.5887\n",
      "Epoch 7/100\n",
      "1563/1563 [==============================] - 17s 11ms/step - loss: 1.1175 - accuracy: 0.6076\n",
      "Epoch 8/100\n",
      "1563/1563 [==============================] - 17s 11ms/step - loss: 1.0708 - accuracy: 0.6284\n",
      "Epoch 9/100\n",
      "1563/1563 [==============================] - 17s 11ms/step - loss: 1.0259 - accuracy: 0.6437\n",
      "Epoch 10/100\n",
      "1563/1563 [==============================] - 17s 11ms/step - loss: 0.9820 - accuracy: 0.6594\n",
      "Epoch 11/100\n",
      "1563/1563 [==============================] - 17s 11ms/step - loss: 0.9435 - accuracy: 0.6716\n",
      "Epoch 12/100\n",
      "1563/1563 [==============================] - 18s 11ms/step - loss: 0.9077 - accuracy: 0.6851\n",
      "Epoch 13/100\n",
      "1563/1563 [==============================] - 18s 12ms/step - loss: 0.8759 - accuracy: 0.6965\n",
      "Epoch 14/100\n",
      "1563/1563 [==============================] - 18s 11ms/step - loss: 0.8444 - accuracy: 0.7067\n",
      "Epoch 15/100\n",
      "1563/1563 [==============================] - 17s 11ms/step - loss: 0.8147 - accuracy: 0.7172\n",
      "Epoch 16/100\n",
      "1563/1563 [==============================] - 18s 12ms/step - loss: 0.7870 - accuracy: 0.7275\n",
      "Epoch 17/100\n",
      "1563/1563 [==============================] - 16s 10ms/step - loss: 0.7597 - accuracy: 0.7362\n",
      "Epoch 18/100\n",
      "1563/1563 [==============================] - 17s 11ms/step - loss: 0.7347 - accuracy: 0.7461\n",
      "Epoch 19/100\n",
      "1563/1563 [==============================] - 16s 10ms/step - loss: 0.7081 - accuracy: 0.7542\n",
      "Epoch 20/100\n",
      "1563/1563 [==============================] - 16s 11ms/step - loss: 0.6834 - accuracy: 0.7636\n",
      "Epoch 21/100\n",
      "1563/1563 [==============================] - 16s 10ms/step - loss: 0.6597 - accuracy: 0.7727\n",
      "Epoch 22/100\n",
      "1563/1563 [==============================] - 17s 11ms/step - loss: 0.6392 - accuracy: 0.7782\n",
      "Epoch 23/100\n",
      "1563/1563 [==============================] - 20s 13ms/step - loss: 0.6143 - accuracy: 0.7885\n",
      "Epoch 24/100\n",
      "1563/1563 [==============================] - 22s 14ms/step - loss: 0.5926 - accuracy: 0.7943\n",
      "Epoch 25/100\n",
      "1563/1563 [==============================] - 21s 14ms/step - loss: 0.5700 - accuracy: 0.8039\n",
      "Epoch 26/100\n",
      "1563/1563 [==============================] - 21s 14ms/step - loss: 0.5465 - accuracy: 0.8108\n",
      "Epoch 27/100\n",
      "1563/1563 [==============================] - 18s 11ms/step - loss: 0.5247 - accuracy: 0.8186\n",
      "Epoch 28/100\n",
      "1563/1563 [==============================] - 17s 11ms/step - loss: 0.5027 - accuracy: 0.8262\n",
      "Epoch 29/100\n",
      "1563/1563 [==============================] - 17s 11ms/step - loss: 0.4828 - accuracy: 0.8318\n",
      "Epoch 30/100\n",
      "1563/1563 [==============================] - 16s 10ms/step - loss: 0.4616 - accuracy: 0.8390\n",
      "Epoch 31/100\n",
      "1563/1563 [==============================] - 16s 10ms/step - loss: 0.4400 - accuracy: 0.8476\n",
      "Epoch 32/100\n",
      "1563/1563 [==============================] - 18s 11ms/step - loss: 0.4212 - accuracy: 0.8550\n",
      "Epoch 33/100\n",
      "1563/1563 [==============================] - 17s 11ms/step - loss: 0.3998 - accuracy: 0.8614\n",
      "Epoch 34/100\n",
      "1563/1563 [==============================] - 17s 11ms/step - loss: 0.3817 - accuracy: 0.8687\n",
      "Epoch 35/100\n",
      "1563/1563 [==============================] - 17s 11ms/step - loss: 0.3617 - accuracy: 0.8768\n",
      "Epoch 36/100\n",
      "1563/1563 [==============================] - 16s 10ms/step - loss: 0.3410 - accuracy: 0.8835\n",
      "Epoch 37/100\n",
      "1563/1563 [==============================] - 14s 9ms/step - loss: 0.3270 - accuracy: 0.8870\n",
      "Epoch 38/100\n",
      "1563/1563 [==============================] - 14s 9ms/step - loss: 0.3068 - accuracy: 0.8945\n",
      "Epoch 39/100\n",
      "1563/1563 [==============================] - 14s 9ms/step - loss: 0.2878 - accuracy: 0.9019\n",
      "Epoch 40/100\n",
      "1563/1563 [==============================] - 14s 9ms/step - loss: 0.2701 - accuracy: 0.9085\n",
      "Epoch 41/100\n",
      "1563/1563 [==============================] - 14s 9ms/step - loss: 0.2527 - accuracy: 0.9155\n",
      "Epoch 42/100\n",
      "1563/1563 [==============================] - 14s 9ms/step - loss: 0.2410 - accuracy: 0.9178\n",
      "Epoch 43/100\n",
      "1563/1563 [==============================] - 11s 7ms/step - loss: 0.2233 - accuracy: 0.9244\n",
      "Epoch 44/100\n",
      "1563/1563 [==============================] - 11s 7ms/step - loss: 0.2076 - accuracy: 0.9309\n",
      "Epoch 45/100\n",
      "1563/1563 [==============================] - 11s 7ms/step - loss: 0.1927 - accuracy: 0.9364\n",
      "Epoch 46/100\n",
      "1563/1563 [==============================] - 12s 7ms/step - loss: 0.1769 - accuracy: 0.9421\n",
      "Epoch 47/100\n",
      "1563/1563 [==============================] - 11s 7ms/step - loss: 0.1627 - accuracy: 0.9478\n",
      "Epoch 48/100\n",
      "1563/1563 [==============================] - 12s 7ms/step - loss: 0.1528 - accuracy: 0.9505\n",
      "Epoch 49/100\n",
      "1563/1563 [==============================] - 12s 8ms/step - loss: 0.1439 - accuracy: 0.9527\n",
      "Epoch 50/100\n",
      "1563/1563 [==============================] - 11s 7ms/step - loss: 0.1288 - accuracy: 0.9606\n",
      "Epoch 51/100\n",
      "1563/1563 [==============================] - 11s 7ms/step - loss: 0.1163 - accuracy: 0.9645\n",
      "Epoch 52/100\n",
      "1563/1563 [==============================] - 12s 8ms/step - loss: 0.1052 - accuracy: 0.9694\n",
      "Epoch 53/100\n",
      "1563/1563 [==============================] - 12s 8ms/step - loss: 0.0952 - accuracy: 0.9719\n",
      "Epoch 54/100\n",
      "1563/1563 [==============================] - 12s 8ms/step - loss: 0.0842 - accuracy: 0.9764\n",
      "Epoch 55/100\n",
      "1563/1563 [==============================] - 13s 9ms/step - loss: 0.0759 - accuracy: 0.9798\n",
      "Epoch 56/100\n",
      "1563/1563 [==============================] - 15s 9ms/step - loss: 0.0657 - accuracy: 0.9835\n",
      "Epoch 57/100\n",
      "1563/1563 [==============================] - 15s 9ms/step - loss: 0.0583 - accuracy: 0.9864\n",
      "Epoch 58/100\n",
      "1563/1563 [==============================] - 15s 9ms/step - loss: 0.0475 - accuracy: 0.9904\n",
      "Epoch 59/100\n",
      "1563/1563 [==============================] - 15s 9ms/step - loss: 0.0415 - accuracy: 0.9922\n",
      "Epoch 60/100\n",
      "1563/1563 [==============================] - 15s 9ms/step - loss: 0.0322 - accuracy: 0.9952\n",
      "Epoch 61/100\n",
      "1563/1563 [==============================] - 15s 9ms/step - loss: 0.0240 - accuracy: 0.9975\n",
      "Epoch 62/100\n",
      "1563/1563 [==============================] - 15s 10ms/step - loss: 0.0192 - accuracy: 0.9989\n",
      "Epoch 63/100\n",
      "1563/1563 [==============================] - 15s 10ms/step - loss: 0.0155 - accuracy: 0.9992\n",
      "Epoch 64/100\n",
      "1563/1563 [==============================] - 15s 9ms/step - loss: 0.0129 - accuracy: 0.9995\n",
      "Epoch 65/100\n",
      "1563/1563 [==============================] - 15s 10ms/step - loss: 0.0113 - accuracy: 0.9996\n",
      "Epoch 66/100\n",
      "1563/1563 [==============================] - 15s 10ms/step - loss: 0.0098 - accuracy: 0.9999\n",
      "Epoch 67/100\n",
      "1563/1563 [==============================] - 15s 10ms/step - loss: 0.0086 - accuracy: 0.9999\n",
      "Epoch 68/100\n",
      "1563/1563 [==============================] - 15s 9ms/step - loss: 0.0078 - accuracy: 0.9999\n",
      "Epoch 69/100\n",
      "1563/1563 [==============================] - 15s 9ms/step - loss: 0.0074 - accuracy: 0.9997\n",
      "Epoch 70/100\n",
      "1563/1563 [==============================] - 16s 10ms/step - loss: 0.0067 - accuracy: 0.9999\n",
      "Epoch 71/100\n",
      "1563/1563 [==============================] - 15s 10ms/step - loss: 0.0061 - accuracy: 1.0000\n",
      "Epoch 72/100\n",
      "1563/1563 [==============================] - 15s 9ms/step - loss: 0.0056 - accuracy: 1.0000\n",
      "Epoch 73/100\n",
      "1563/1563 [==============================] - 12s 8ms/step - loss: 0.0053 - accuracy: 1.0000\n",
      "Epoch 74/100\n",
      "1563/1563 [==============================] - 11s 7ms/step - loss: 0.0049 - accuracy: 1.0000\n",
      "Epoch 75/100\n",
      "1563/1563 [==============================] - 12s 7ms/step - loss: 0.0046 - accuracy: 1.0000\n",
      "Epoch 76/100\n",
      "1563/1563 [==============================] - 14s 9ms/step - loss: 0.0043 - accuracy: 1.0000\n",
      "Epoch 77/100\n",
      "1563/1563 [==============================] - 16s 10ms/step - loss: 0.0041 - accuracy: 1.0000\n",
      "Epoch 78/100\n"
     ]
    },
    {
     "name": "stdout",
     "output_type": "stream",
     "text": [
      "1563/1563 [==============================] - 14s 9ms/step - loss: 0.0039 - accuracy: 1.0000\n",
      "Epoch 79/100\n",
      "1563/1563 [==============================] - 15s 10ms/step - loss: 0.0037 - accuracy: 1.0000\n",
      "Epoch 80/100\n",
      "1563/1563 [==============================] - 14s 9ms/step - loss: 0.0035 - accuracy: 1.0000\n",
      "Epoch 81/100\n",
      "1563/1563 [==============================] - 15s 10ms/step - loss: 0.0034 - accuracy: 1.0000\n",
      "Epoch 82/100\n",
      "1563/1563 [==============================] - 14s 9ms/step - loss: 0.0032 - accuracy: 1.0000\n",
      "Epoch 83/100\n",
      "1563/1563 [==============================] - 14s 9ms/step - loss: 0.0031 - accuracy: 1.0000\n",
      "Epoch 84/100\n",
      "1563/1563 [==============================] - 14s 9ms/step - loss: 0.0030 - accuracy: 1.0000\n",
      "Epoch 85/100\n",
      "1563/1563 [==============================] - 14s 9ms/step - loss: 0.0029 - accuracy: 1.0000\n",
      "Epoch 86/100\n",
      "1563/1563 [==============================] - 14s 9ms/step - loss: 0.0027 - accuracy: 1.0000\n",
      "Epoch 87/100\n",
      "1563/1563 [==============================] - 14s 9ms/step - loss: 0.0027 - accuracy: 1.0000\n",
      "Epoch 88/100\n",
      "1563/1563 [==============================] - 14s 9ms/step - loss: 0.0025 - accuracy: 1.0000\n",
      "Epoch 89/100\n",
      "1563/1563 [==============================] - 15s 9ms/step - loss: 0.0025 - accuracy: 1.0000\n",
      "Epoch 90/100\n",
      "1563/1563 [==============================] - 14s 9ms/step - loss: 0.0024 - accuracy: 1.0000\n",
      "Epoch 91/100\n",
      "1563/1563 [==============================] - 15s 10ms/step - loss: 0.0023 - accuracy: 1.0000\n",
      "Epoch 92/100\n",
      "1563/1563 [==============================] - 14s 9ms/step - loss: 0.0022 - accuracy: 1.0000\n",
      "Epoch 93/100\n",
      "1563/1563 [==============================] - 14s 9ms/step - loss: 0.0022 - accuracy: 1.0000\n",
      "Epoch 94/100\n",
      "1563/1563 [==============================] - 14s 9ms/step - loss: 0.0021 - accuracy: 1.0000\n",
      "Epoch 95/100\n",
      "1563/1563 [==============================] - 14s 9ms/step - loss: 0.0020 - accuracy: 1.0000\n",
      "Epoch 96/100\n",
      "1563/1563 [==============================] - 15s 9ms/step - loss: 0.0020 - accuracy: 1.0000\n",
      "Epoch 97/100\n",
      "1563/1563 [==============================] - 16s 11ms/step - loss: 0.0019 - accuracy: 1.0000\n",
      "Epoch 98/100\n",
      "1563/1563 [==============================] - 17s 11ms/step - loss: 0.0019 - accuracy: 1.0000\n",
      "Epoch 99/100\n",
      "1563/1563 [==============================] - 17s 11ms/step - loss: 0.0018 - accuracy: 1.0000\n",
      "Epoch 100/100\n",
      "1563/1563 [==============================] - 14s 9ms/step - loss: 0.0018 - accuracy: 1.0000\n"
     ]
    },
    {
     "data": {
      "text/plain": [
       "<keras.src.callbacks.History at 0x2a50ad1f710>"
      ]
     },
     "execution_count": 48,
     "metadata": {},
     "output_type": "execute_result"
    }
   ],
   "source": [
    "cnn.fit(X_train, y_train, epochs=100)"
   ]
  },
  {
   "cell_type": "code",
   "execution_count": 65,
   "metadata": {
    "scrolled": true
   },
   "outputs": [
    {
     "name": "stdout",
     "output_type": "stream",
     "text": [
      "313/313 [==============================] - 4s 4ms/step - loss: 2.9912 - accuracy: 0.6815\n"
     ]
    },
    {
     "data": {
      "text/plain": [
       "[2.9912309646606445, 0.6815000176429749]"
      ]
     },
     "execution_count": 65,
     "metadata": {},
     "output_type": "execute_result"
    }
   ],
   "source": [
    "cnn.evaluate(X_test,y_test)"
   ]
  },
  {
   "cell_type": "code",
   "execution_count": 66,
   "metadata": {},
   "outputs": [
    {
     "name": "stdout",
     "output_type": "stream",
     "text": [
      "313/313 [==============================] - 4s 4ms/step\n"
     ]
    }
   ],
   "source": [
    "y_pred = cnn.predict(X_test)"
   ]
  },
  {
   "cell_type": "code",
   "execution_count": 67,
   "metadata": {},
   "outputs": [
    {
     "data": {
      "text/plain": [
       "[3, 8, 1, 0, 4]"
      ]
     },
     "execution_count": 67,
     "metadata": {},
     "output_type": "execute_result"
    }
   ],
   "source": [
    "y_classes = [np.argmax(element) for element in y_pred]\n",
    "y_classes[:5]"
   ]
  },
  {
   "cell_type": "code",
   "execution_count": 64,
   "metadata": {},
   "outputs": [
    {
     "data": {
      "text/plain": [
       "array([3, 8, 8, 0, 6], dtype=uint8)"
      ]
     },
     "execution_count": 64,
     "metadata": {},
     "output_type": "execute_result"
    }
   ],
   "source": [
    "y_test[:5]"
   ]
  },
  {
   "cell_type": "code",
   "execution_count": null,
   "metadata": {},
   "outputs": [],
   "source": []
  }
 ],
 "metadata": {
  "kernelspec": {
   "display_name": "Python 3 (ipykernel)",
   "language": "python",
   "name": "python3"
  },
  "language_info": {
   "codemirror_mode": {
    "name": "ipython",
    "version": 3
   },
   "file_extension": ".py",
   "mimetype": "text/x-python",
   "name": "python",
   "nbconvert_exporter": "python",
   "pygments_lexer": "ipython3",
   "version": "3.11.4"
  }
 },
 "nbformat": 4,
 "nbformat_minor": 4
}
